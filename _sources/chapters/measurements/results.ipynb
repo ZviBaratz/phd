{
 "cells": [
  {
   "cell_type": "markdown",
   "metadata": {},
   "source": [
    "(measurements:results)=\n",
    "# Results\n",
    "\n",
    "<hr>"
   ]
  },
  {
   "cell_type": "markdown",
   "metadata": {},
   "source": [
    "## A Comparison of Estimated Anatomical Statistics Across *FreeSurfer* Configurations"
   ]
  },
  {
   "cell_type": "markdown",
   "metadata": {},
   "source": [
    "A two-sample Kolmogorov-Smirnov test was applied per metric both to whole-brain values and region-wise to estimate the probability of the two samples originating in the same distribution, and the Bonferroni method was used to correct for multiple comparisons. The {ref}`following table <whole-brain KS>` contains a summary of the significant (corrected p-value is smaller than 0.05) whole-brain metrics:"
   ]
  },
  {
   "cell_type": "code",
   "execution_count": 18,
   "metadata": {
    "tags": [
     "remove-input"
    ]
   },
   "outputs": [
    {
     "data": {
      "application/papermill.record/text/html": "<style type=\"text/css\">\n</style>\n<table id=\"T_26020\">\n  <thead>\n    <tr>\n      <th id=\"T_26020_level0_col0\" class=\"col_heading level0 col0\" >Configuration</th>\n      <th id=\"T_26020_level0_col1\" class=\"col_heading level0 col1\" >Metric</th>\n      <th id=\"T_26020_level0_col2\" class=\"col_heading level0 col2\" >Statistic</th>\n      <th id=\"T_26020_level0_col3\" class=\"col_heading level0 col3\" >p-value</th>\n      <th id=\"T_26020_level0_col4\" class=\"col_heading level0 col4\" >p-value (corrected)</th>\n    </tr>\n  </thead>\n  <tbody>\n    <tr>\n      <td id=\"T_26020_row0_col0\" class=\"data row0 col0\" >With T2</td>\n      <td id=\"T_26020_row0_col1\" class=\"data row0 col1\" >Average Thickness</td>\n      <td id=\"T_26020_row0_col2\" class=\"data row0 col2\" >0.119</td>\n      <td id=\"T_26020_row0_col3\" class=\"data row0 col3\" >1.37e-148</td>\n      <td id=\"T_26020_row0_col4\" class=\"data row0 col4\" >2.19e-147</td>\n    </tr>\n    <tr>\n      <td id=\"T_26020_row1_col0\" class=\"data row1 col0\" >With T2</td>\n      <td id=\"T_26020_row1_col1\" class=\"data row1 col1\" >Thickness StdDev</td>\n      <td id=\"T_26020_row1_col2\" class=\"data row1 col2\" >0.153</td>\n      <td id=\"T_26020_row1_col3\" class=\"data row1 col3\" >2.77e-247</td>\n      <td id=\"T_26020_row1_col4\" class=\"data row1 col4\" >4.43e-246</td>\n    </tr>\n    <tr>\n      <td id=\"T_26020_row2_col0\" class=\"data row2 col0\" >With FLAIR</td>\n      <td id=\"T_26020_row2_col1\" class=\"data row2 col1\" >Average Thickness</td>\n      <td id=\"T_26020_row2_col2\" class=\"data row2 col2\" >0.136</td>\n      <td id=\"T_26020_row2_col3\" class=\"data row2 col3\" >2.02e-195</td>\n      <td id=\"T_26020_row2_col4\" class=\"data row2 col4\" >3.23e-194</td>\n    </tr>\n    <tr>\n      <td id=\"T_26020_row3_col0\" class=\"data row3 col0\" >With FLAIR</td>\n      <td id=\"T_26020_row3_col1\" class=\"data row3 col1\" >Gray Matter Volume</td>\n      <td id=\"T_26020_row3_col2\" class=\"data row3 col2\" >0.107</td>\n      <td id=\"T_26020_row3_col3\" class=\"data row3 col3\" >7.57e-120</td>\n      <td id=\"T_26020_row3_col4\" class=\"data row3 col4\" >1.21e-118</td>\n    </tr>\n    <tr>\n      <td id=\"T_26020_row4_col0\" class=\"data row4 col0\" >With FLAIR</td>\n      <td id=\"T_26020_row4_col1\" class=\"data row4 col1\" >Thickness StdDev</td>\n      <td id=\"T_26020_row4_col2\" class=\"data row4 col2\" >0.0376</td>\n      <td id=\"T_26020_row4_col3\" class=\"data row4 col3\" >2.99e-15</td>\n      <td id=\"T_26020_row4_col4\" class=\"data row4 col4\" >4.79e-14</td>\n    </tr>\n  </tbody>\n</table>\n",
      "application/papermill.record/text/plain": "<pandas.io.formats.style.Styler at 0x7f4754c644c0>"
     },
     "metadata": {
      "scrapbook": {
       "mime_prefix": "application/papermill.record/",
       "name": "whole-brain KS"
      }
     },
     "output_type": "display_data"
    },
    {
     "data": {
      "application/papermill.record/text/html": "<div>\n<style scoped>\n    .dataframe tbody tr th:only-of-type {\n        vertical-align: middle;\n    }\n\n    .dataframe tbody tr th {\n        vertical-align: top;\n    }\n\n    .dataframe thead th {\n        text-align: right;\n    }\n</style>\n<table border=\"1\" class=\"dataframe\">\n  <thead>\n    <tr style=\"text-align: right;\">\n      <th></th>\n      <th></th>\n      <th># Regions</th>\n    </tr>\n    <tr>\n      <th>Configuration</th>\n      <th>Metric</th>\n      <th></th>\n    </tr>\n  </thead>\n  <tbody>\n    <tr>\n      <th rowspan=\"3\" valign=\"top\">With FLAIR</th>\n      <th>Average Thickness</th>\n      <td>114</td>\n    </tr>\n    <tr>\n      <th>Gray Matter Volume</th>\n      <td>79</td>\n    </tr>\n    <tr>\n      <th>Thickness StdDev</th>\n      <td>60</td>\n    </tr>\n    <tr>\n      <th rowspan=\"3\" valign=\"top\">With T2</th>\n      <th>Average Thickness</th>\n      <td>83</td>\n    </tr>\n    <tr>\n      <th>Gray Matter Volume</th>\n      <td>1</td>\n    </tr>\n    <tr>\n      <th>Thickness StdDev</th>\n      <td>74</td>\n    </tr>\n  </tbody>\n</table>\n</div>",
      "application/papermill.record/text/plain": "                                  # Regions\nConfiguration Metric                       \nWith FLAIR    Average Thickness         114\n              Gray Matter Volume         79\n              Thickness StdDev           60\nWith T2       Average Thickness          83\n              Gray Matter Volume          1\n              Thickness StdDev           74"
     },
     "metadata": {
      "scrapbook": {
       "mime_prefix": "application/papermill.record/",
       "name": "region-wise counts"
      }
     },
     "output_type": "display_data"
    }
   ],
   "source": [
    "import pandas as pd\n",
    "from myst_nb import glue\n",
    "\n",
    "whole_brain_ks = pd.read_csv(\"assets/whole-brain KS.csv\")\n",
    "whole_brain_ks_table = whole_brain_ks.style.hide(axis=0).format(formatter=\"{:3.3g}\", subset=[\"Statistic\", \"p-value\", \"p-value (corrected)\"])\n",
    "glue(\"whole-brain KS\", whole_brain_ks_table, display=False)\n",
    "\n",
    "alpha = 0.05\n",
    "\n",
    "region_wise_ks = pd.read_csv(\"assets/region-wise KS.csv\")\n",
    "region_wise_counts = region_wise_ks.groupby([\"Configuration\", \"Metric\"]).size()\n",
    "region_wise_counts.name = \"# Regions\"\n",
    "glue(\"region-wise counts\", region_wise_counts.to_frame(), display=False)"
   ]
  },
  {
   "cell_type": "markdown",
   "metadata": {},
   "source": [
    "```{glue:figure} whole-brain KS\n",
    ":name: \"whole-brain KS\"\n",
    "\n",
    "Two-sample Kolmogorov-Smirnov test results for significantly different (alpha = 0.05) whole-brain anatomical statistics distributions for various execution configurations, in comparison with the default configuration.\n",
    "```"
   ]
  },
  {
   "cell_type": "markdown",
   "metadata": {},
   "source": [
    "Applying the same test region-wise yields a total of 1184 comparisons per execution configuration (2 hemispheres * 74 atlas regions * 8 anatomical statistics), the {ref}`following table <region-wise counts>` contains a summary of the significant region counts per execution configuration."
   ]
  },
  {
   "cell_type": "markdown",
   "metadata": {},
   "source": [
    "```{glue:figure} region-wise counts\n",
    ":name: \"region-wise counts\"\n",
    "\n",
    "Two-sample Kolmogorov-Smirnov test counts of significantly different (alpha = 0.05) region-wise anatomical statistics distributions for various execution configurations, in comparison with the default configuration.\n",
    "```"
   ]
  },
  {
   "cell_type": "markdown",
   "metadata": {},
   "source": [
    "```{figure} ./assets/pair_plot.png\n",
    "---\n",
    "name: mean-thickness-pair-plot\n",
    "width: 100%\n",
    "---\n",
    "```"
   ]
  },
  {
   "cell_type": "markdown",
   "metadata": {},
   "source": [
    "```{figure} ./assets/FLAIR_thickness_diff.png\n",
    "---\n",
    "name: flair-thickness-diff\n",
    "width: 100%\n",
    "---\n",
    "```"
   ]
  },
  {
   "cell_type": "markdown",
   "metadata": {},
   "source": [
    "```{figure} ./assets/T2_thickness_diff.png\n",
    "---\n",
    "name: t2-thickness-diff\n",
    "width: 100%\n",
    "---\n",
    "```"
   ]
  },
  {
   "cell_type": "markdown",
   "metadata": {},
   "source": [
    "## Within vs. Between-Participant Classification"
   ]
  },
  {
   "cell_type": "markdown",
   "metadata": {},
   "source": [
    "### Cosine Similarity"
   ]
  },
  {
   "cell_type": "markdown",
   "metadata": {},
   "source": [
    "```{figure} ./assets/cosine_similarity.png\n",
    "---\n",
    "name: cosine-similarity-plot\n",
    "width: 100%\n",
    "---\n",
    "```"
   ]
  },
  {
   "cell_type": "markdown",
   "metadata": {},
   "source": [
    "## Prediction of Participant Traits"
   ]
  },
  {
   "cell_type": "markdown",
   "metadata": {},
   "source": [
    "### Sex"
   ]
  },
  {
   "cell_type": "markdown",
   "metadata": {},
   "source": [
    "| Method | Execution Configuration | Model                      | Test Score |\n",
    "|--------|-------------------------|----------------------------|:----------:|\n",
    "| TPOT   | With T2                 | GradientBoostingClassifier |   0.9222   |\n",
    "| TPOT   | DEFAULT                 | MLPClassifier              |   0.9167   |\n",
    "| FLAML  | With FLAIR              | LogisticRegression         |   0.8519   |\n",
    "| FLAML  | With T2                 | LogisticRegression         |   0.8519   |\n",
    "| TPOT   | FLAIR                   | MLPClassifier              |    0.85    |\n",
    "| FLAML  | DEFAULT                 | LGBMClassifier             |   0.7407   |"
   ]
  },
  {
   "cell_type": "markdown",
   "metadata": {},
   "source": [
    "### Age"
   ]
  },
  {
   "cell_type": "markdown",
   "metadata": {},
   "source": [
    "### BMI"
   ]
  }
 ],
 "metadata": {
  "celltoolbar": "Tags",
  "kernelspec": {
   "display_name": "Python 3 (ipykernel)",
   "language": "python",
   "name": "python3"
  },
  "language_info": {
   "codemirror_mode": {
    "name": "ipython",
    "version": 3
   },
   "file_extension": ".py",
   "mimetype": "text/x-python",
   "name": "python",
   "nbconvert_exporter": "python",
   "pygments_lexer": "ipython3",
   "version": "3.9.2"
  }
 },
 "nbformat": 4,
 "nbformat_minor": 2
}
