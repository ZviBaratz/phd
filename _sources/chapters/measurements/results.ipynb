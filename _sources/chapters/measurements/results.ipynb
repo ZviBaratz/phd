{
 "cells": [
  {
   "cell_type": "markdown",
   "metadata": {},
   "source": [
    "(measurements:results)=\n",
    "# Results\n",
    "\n",
    "<hr>"
   ]
  },
  {
   "cell_type": "markdown",
   "metadata": {},
   "source": [
    "## Two-sample KS Test"
   ]
  },
  {
   "cell_type": "markdown",
   "metadata": {},
   "source": [
    "To first provide a statistical indication that the empirical distributions of the collected metrics differ across execution configurations, a two-sample Kolmogorov-Smirnov test was applied to compare both whole-brain and region-wise values and estimate the probability of them originating from the same probability distribution as the default configuration's empirical distribution function. The Bonferroni method was used to correct for multiple comparisons. {numref}`whole-brain-ks` contains a summary of the significant (corrected p-value is smaller than 0.05) whole-brain metrics:"
   ]
  },
  {
   "cell_type": "code",
   "execution_count": 18,
   "metadata": {
    "tags": [
     "remove-input"
    ]
   },
   "outputs": [
    {
     "data": {
      "application/papermill.record/text/html": "<style type=\"text/css\">\n</style>\n<table id=\"T_26020\">\n  <thead>\n    <tr>\n      <th id=\"T_26020_level0_col0\" class=\"col_heading level0 col0\" >Configuration</th>\n      <th id=\"T_26020_level0_col1\" class=\"col_heading level0 col1\" >Metric</th>\n      <th id=\"T_26020_level0_col2\" class=\"col_heading level0 col2\" >Statistic</th>\n      <th id=\"T_26020_level0_col3\" class=\"col_heading level0 col3\" >p-value</th>\n      <th id=\"T_26020_level0_col4\" class=\"col_heading level0 col4\" >p-value (corrected)</th>\n    </tr>\n  </thead>\n  <tbody>\n    <tr>\n      <td id=\"T_26020_row0_col0\" class=\"data row0 col0\" >With T2</td>\n      <td id=\"T_26020_row0_col1\" class=\"data row0 col1\" >Average Thickness</td>\n      <td id=\"T_26020_row0_col2\" class=\"data row0 col2\" >0.119</td>\n      <td id=\"T_26020_row0_col3\" class=\"data row0 col3\" >1.37e-148</td>\n      <td id=\"T_26020_row0_col4\" class=\"data row0 col4\" >2.19e-147</td>\n    </tr>\n    <tr>\n      <td id=\"T_26020_row1_col0\" class=\"data row1 col0\" >With T2</td>\n      <td id=\"T_26020_row1_col1\" class=\"data row1 col1\" >Thickness StdDev</td>\n      <td id=\"T_26020_row1_col2\" class=\"data row1 col2\" >0.153</td>\n      <td id=\"T_26020_row1_col3\" class=\"data row1 col3\" >2.77e-247</td>\n      <td id=\"T_26020_row1_col4\" class=\"data row1 col4\" >4.43e-246</td>\n    </tr>\n    <tr>\n      <td id=\"T_26020_row2_col0\" class=\"data row2 col0\" >With FLAIR</td>\n      <td id=\"T_26020_row2_col1\" class=\"data row2 col1\" >Average Thickness</td>\n      <td id=\"T_26020_row2_col2\" class=\"data row2 col2\" >0.136</td>\n      <td id=\"T_26020_row2_col3\" class=\"data row2 col3\" >2.02e-195</td>\n      <td id=\"T_26020_row2_col4\" class=\"data row2 col4\" >3.23e-194</td>\n    </tr>\n    <tr>\n      <td id=\"T_26020_row3_col0\" class=\"data row3 col0\" >With FLAIR</td>\n      <td id=\"T_26020_row3_col1\" class=\"data row3 col1\" >Gray Matter Volume</td>\n      <td id=\"T_26020_row3_col2\" class=\"data row3 col2\" >0.107</td>\n      <td id=\"T_26020_row3_col3\" class=\"data row3 col3\" >7.57e-120</td>\n      <td id=\"T_26020_row3_col4\" class=\"data row3 col4\" >1.21e-118</td>\n    </tr>\n    <tr>\n      <td id=\"T_26020_row4_col0\" class=\"data row4 col0\" >With FLAIR</td>\n      <td id=\"T_26020_row4_col1\" class=\"data row4 col1\" >Thickness StdDev</td>\n      <td id=\"T_26020_row4_col2\" class=\"data row4 col2\" >0.0376</td>\n      <td id=\"T_26020_row4_col3\" class=\"data row4 col3\" >2.99e-15</td>\n      <td id=\"T_26020_row4_col4\" class=\"data row4 col4\" >4.79e-14</td>\n    </tr>\n  </tbody>\n</table>\n",
      "application/papermill.record/text/plain": "<pandas.io.formats.style.Styler at 0x7f4754c644c0>"
     },
     "metadata": {
      "scrapbook": {
       "mime_prefix": "application/papermill.record/",
       "name": "whole-brain KS"
      }
     },
     "output_type": "display_data"
    },
    {
     "data": {
      "application/papermill.record/text/html": "<div>\n<style scoped>\n    .dataframe tbody tr th:only-of-type {\n        vertical-align: middle;\n    }\n\n    .dataframe tbody tr th {\n        vertical-align: top;\n    }\n\n    .dataframe thead th {\n        text-align: right;\n    }\n</style>\n<table border=\"1\" class=\"dataframe\">\n  <thead>\n    <tr style=\"text-align: right;\">\n      <th></th>\n      <th></th>\n      <th># Regions</th>\n    </tr>\n    <tr>\n      <th>Configuration</th>\n      <th>Metric</th>\n      <th></th>\n    </tr>\n  </thead>\n  <tbody>\n    <tr>\n      <th rowspan=\"3\" valign=\"top\">With FLAIR</th>\n      <th>Average Thickness</th>\n      <td>114</td>\n    </tr>\n    <tr>\n      <th>Gray Matter Volume</th>\n      <td>79</td>\n    </tr>\n    <tr>\n      <th>Thickness StdDev</th>\n      <td>60</td>\n    </tr>\n    <tr>\n      <th rowspan=\"3\" valign=\"top\">With T2</th>\n      <th>Average Thickness</th>\n      <td>83</td>\n    </tr>\n    <tr>\n      <th>Gray Matter Volume</th>\n      <td>1</td>\n    </tr>\n    <tr>\n      <th>Thickness StdDev</th>\n      <td>74</td>\n    </tr>\n  </tbody>\n</table>\n</div>",
      "application/papermill.record/text/plain": "                                  # Regions\nConfiguration Metric                       \nWith FLAIR    Average Thickness         114\n              Gray Matter Volume         79\n              Thickness StdDev           60\nWith T2       Average Thickness          83\n              Gray Matter Volume          1\n              Thickness StdDev           74"
     },
     "metadata": {
      "scrapbook": {
       "mime_prefix": "application/papermill.record/",
       "name": "region-wise counts"
      }
     },
     "output_type": "display_data"
    }
   ],
   "source": [
    "import pandas as pd\n",
    "from myst_nb import glue\n",
    "\n",
    "whole_brain_ks = pd.read_csv(\"assets/whole-brain KS.csv\").set_index([\"Configuration\", \"Metric\"])\n",
    "whole_brain_ks_table = whole_brain_ks.style.format(\n",
    "    formatter=\"{:3.3g}\", subset=[\"Statistic\", \"p-value\", \"p-value (corrected)\"]\n",
    "# ).set_properties(\n",
    "#     **{\"text-align\": \"left\"}, subset=[\"Configuration\"]\n",
    ").set_properties(\n",
    "    **{\"text-align\": \"center\"}, subset=[\"Statistic\", \"p-value\", \"p-value (corrected)\"]\n",
    ").set_table_styles(\n",
    "    [\n",
    "        {\n",
    "            \"selector\": \"th\", \n",
    "            \"props\": [('text-align', 'center')]\n",
    "        }\n",
    "    ]\n",
    ").set_table_attributes(\n",
    "    'style=\"margin-left: auto; margin-right: auto; font-size: 12px;\"'\n",
    ")\n",
    "for i in whole_brain_ks.index:\n",
    "    whole_brain_ks_table.set_table_styles({\n",
    "        i: [{'selector': '', 'props': 'border-top: 1px solid black;'}]\n",
    "    }, overwrite=False, axis=1)\n",
    "\n",
    "glue(\"whole-brain-ks\", whole_brain_ks_table, display=False)\n",
    "\n",
    "alpha = 0.05\n",
    "\n",
    "region_wise_ks = pd.read_csv(\"assets/region-wise KS.csv\")\n",
    "region_wise_counts = region_wise_ks.groupby([\"Configuration\", \"Metric\"]).size()\n",
    "region_wise_counts.name = \"# Regions\"\n",
    "region_wise_counts_table = region_wise_counts.to_frame().style.set_table_attributes(\n",
    "    'style=\"margin-left: auto; margin-right: auto; font-size: 12px;\"'\n",
    ")\n",
    "for i in region_wise_counts.index:\n",
    "    region_wise_counts_table.set_table_styles({\n",
    "        i: [{'selector': '', 'props': 'border-top: 1px solid black;'}]\n",
    "    }, overwrite=False, axis=1)\n",
    "\n",
    "glue(\"region-wise-counts\", region_wise_counts_table, display=False)"
   ]
  },
  {
   "cell_type": "markdown",
   "metadata": {},
   "source": [
    "```{glue:figure} whole-brain-ks\n",
    "---\n",
    "name: whole-brain-ks\n",
    "align: center\n",
    "figclass: small-table\n",
    "---\n",
    "\n",
    "Two-sample {{KS}} test results for significantly different ($\\alpha=0.05$) whole-brain anatomical statistics distributions for various execution configurations, in comparison with the default configuration.\n",
    "```"
   ]
  },
  {
   "cell_type": "markdown",
   "metadata": {},
   "source": [
    "Applying the same test region-wise yields a total of 1184 comparisons per execution configuration (2 hemispheres * 74 atlas regions * 8 anatomical statistics), {numref}`region-wise-counts` contains a summary of the significant region counts per execution configuration."
   ]
  },
  {
   "cell_type": "markdown",
   "metadata": {},
   "source": [
    "```{glue:figure} region-wise-counts\n",
    "---\n",
    "name: region-wise-counts\n",
    "align: center\n",
    "figclass: small-table\n",
    "---\n",
    "\n",
    "Two-sample {{KS}} test counts of significantly different ($\\alpha=0.05$) region-wise anatomical statistics distributions for various execution configurations, in comparison with the default configuration. Maximal number of regions is 148 (74 regions per hemisphere).\n",
    "```"
   ]
  },
  {
   "cell_type": "markdown",
   "metadata": {},
   "source": [
    "These results demonstrate the very large effect the *use_{{FLAIR}}* and *use_{{T2w}}* flags may have on elementary statistics commonly extracted with *FreeSurfer*, and the negligble effect the *{{MPRAGE}}* flag has. To better understand the differences between these execution configurations, changes in each significantly different anatomical statistic will be evaluated seperately. "
   ]
  },
  {
   "cell_type": "markdown",
   "metadata": {},
   "source": [
    "## Average Cortical Thickness"
   ]
  },
  {
   "cell_type": "markdown",
   "metadata": {},
   "source": [
    "Average cortical thickness was calculated across all participants for each Destrieux atlas region and *FreeSurfer* execution configuration. {numref}`mean-thickness-pair-plot` shows the distributions and differences of mean average cortical thickness values per region. While both {{T2w}} and {{FLAIR}} are considered to improve pial surface estimation, which explains the large effect both have on the estimated cortical thickness, this figure demonstrates an opposite trend manifested by each; adding a {{T2w}} reference generally increases the estimated average thickness across almost all reigons, whereas a {{FLAIR}} reference generally decreases it, with a relatively uniform reduction across all average region thickness and an opposite trend for a large group of regions mostly around the center of the distribution. Using the *{{MPRAGE}}* flag hardly has any effect at all, as shown by the {{KS}} test in the previous section (see {numref}`whole-brain-ks` and {numref}`region-wise-counts`)."
   ]
  },
  {
   "cell_type": "markdown",
   "metadata": {},
   "source": [
    "```{figure} ./assets/average_thickness_pairplot.png\n",
    "---\n",
    "name: mean-thickness-pair-plot\n",
    "width: 100%\n",
    "---\n",
    "\n",
    "Mean estimated average thickness across participants per execution configuration. Green lines indicate an increase in value and red indicate decrease (from left to right).\n",
    "```"
   ]
  },
  {
   "cell_type": "markdown",
   "metadata": {},
   "source": [
    "The explore the distribution of these differences in the brain, the following two projections show the differences in mean region-wise average cortical thickness for the *T2* and *FLAIR* execution configurations."
   ]
  },
  {
   "cell_type": "markdown",
   "metadata": {},
   "source": [
    "```{figure} ./assets/FLAIR_thickness_diff.png\n",
    "---\n",
    "name: flair-thickness-diff\n",
    "width: 100%\n",
    "---\n",
    "```"
   ]
  },
  {
   "cell_type": "markdown",
   "metadata": {},
   "source": [
    "```{figure} ./assets/T2_thickness_diff.png\n",
    "---\n",
    "name: t2-thickness-diff\n",
    "width: 100%\n",
    "---\n",
    "```"
   ]
  },
  {
   "cell_type": "markdown",
   "metadata": {},
   "source": [
    "Other than the opposite directionality of the effect that has already been established in `numref`{mean-thickness-pair-plot}, the projection of the mean differences onto the cortical surface demonstrate an additional contradiction — the *FLAIR* configuration's general reduction in the average cortical thickness mostly effects gyri, whereas the increase with the *T2* configuration is mostly expressed is sulci."
   ]
  },
  {
   "cell_type": "markdown",
   "metadata": {},
   "source": [
    "## Within vs. Between-Participant Classification"
   ]
  },
  {
   "cell_type": "markdown",
   "metadata": {},
   "source": []
  },
  {
   "cell_type": "markdown",
   "metadata": {},
   "source": [
    "### Cosine Similarity"
   ]
  },
  {
   "cell_type": "markdown",
   "metadata": {},
   "source": [
    "```{figure} ./assets/cosine_similarity.png\n",
    "---\n",
    "name: cosine-similarity-plot\n",
    "width: 100%\n",
    "---\n",
    "```"
   ]
  },
  {
   "cell_type": "markdown",
   "metadata": {},
   "source": [
    "## Prediction of Participant Traits"
   ]
  },
  {
   "cell_type": "markdown",
   "metadata": {},
   "source": [
    "### Sex"
   ]
  },
  {
   "cell_type": "markdown",
   "metadata": {},
   "source": [
    "| Method | Execution Configuration | Model                      | Test Score |\n",
    "|--------|-------------------------|----------------------------|:----------:|\n",
    "| TPOT   | With T2                 | GradientBoostingClassifier |   0.9222   |\n",
    "| TPOT   | DEFAULT                 | MLPClassifier              |   0.9167   |\n",
    "| FLAML  | With FLAIR              | LogisticRegression         |   0.8519   |\n",
    "| FLAML  | With T2                 | LogisticRegression         |   0.8519   |\n",
    "| TPOT   | FLAIR                   | MLPClassifier              |    0.85    |\n",
    "| FLAML  | DEFAULT                 | LGBMClassifier             |   0.7407   |"
   ]
  },
  {
   "cell_type": "markdown",
   "metadata": {},
   "source": [
    "### Age"
   ]
  },
  {
   "cell_type": "markdown",
   "metadata": {},
   "source": [
    "### BMI"
   ]
  }
 ],
 "metadata": {
  "celltoolbar": "Tags",
  "kernelspec": {
   "display_name": "Python 3 (ipykernel)",
   "language": "python",
   "name": "python3"
  },
  "language_info": {
   "codemirror_mode": {
    "name": "ipython",
    "version": 3
   },
   "file_extension": ".py",
   "mimetype": "text/x-python",
   "name": "python",
   "nbconvert_exporter": "python",
   "pygments_lexer": "ipython3",
   "version": "3.9.2"
  }
 },
 "nbformat": 4,
 "nbformat_minor": 2
}
